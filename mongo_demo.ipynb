{
 "cells": [
  {
   "cell_type": "code",
   "execution_count": 1,
   "id": "cf596e66-24c5-4ad3-9980-c0eaf82a29e7",
   "metadata": {},
   "outputs": [],
   "source": [
    "from pymongo import MongoClient"
   ]
  },
  {
   "cell_type": "code",
   "execution_count": 2,
   "id": "2ba5f059-d469-4fc6-95ed-4de5e9980348",
   "metadata": {},
   "outputs": [],
   "source": [
    "client = MongoClient()"
   ]
  },
  {
   "cell_type": "code",
   "execution_count": 3,
   "id": "b967b2d8-7457-4e0a-b501-e64ac8439578",
   "metadata": {},
   "outputs": [],
   "source": [
    "db = client.db01\n",
    "coll = db.col01"
   ]
  },
  {
   "cell_type": "code",
   "execution_count": 6,
   "id": "d0aa03ba-cee0-44ae-8e6f-18d9c5ee0d6a",
   "metadata": {},
   "outputs": [
    {
     "data": {
      "text/plain": [
       "InsertOneResult(ObjectId('65e8a4d05e9cc8ae7634703d'), acknowledged=True)"
      ]
     },
     "execution_count": 6,
     "metadata": {},
     "output_type": "execute_result"
    }
   ],
   "source": [
    "coll.insert_one(document={\"COL1\":1, \"COL2\":2})"
   ]
  },
  {
   "cell_type": "code",
   "execution_count": 7,
   "id": "a5e71cb1-3034-487b-b8f1-be8ced52e716",
   "metadata": {},
   "outputs": [
    {
     "data": {
      "text/plain": [
       "UpdateResult({'n': 1, 'nModified': 1, 'ok': 1.0, 'updatedExisting': True}, acknowledged=True)"
      ]
     },
     "execution_count": 7,
     "metadata": {},
     "output_type": "execute_result"
    }
   ],
   "source": [
    "coll.update_one({\"COL1\":1}, {\"$set\":{\"COL3\":3, \"COL2\":4}})"
   ]
  },
  {
   "cell_type": "code",
   "execution_count": 10,
   "id": "9f0d4bf9-227f-4034-9bcd-87599678eb7e",
   "metadata": {},
   "outputs": [
    {
     "data": {
      "text/plain": [
       "[{'_id': ObjectId('65e8a4d05e9cc8ae7634703d'), 'COL2': 4, 'COL3': 3}]"
      ]
     },
     "execution_count": 10,
     "metadata": {},
     "output_type": "execute_result"
    }
   ],
   "source": [
    "list(coll.find({\"COL1\":1}, {\"_id\":1, \"COL1\":0}))"
   ]
  },
  {
   "cell_type": "code",
   "execution_count": 11,
   "id": "1f6de6ce-cb78-4a42-b2d1-2e7c60f124c9",
   "metadata": {},
   "outputs": [
    {
     "data": {
      "text/plain": [
       "[{'_id': ObjectId('65e8a4d05e9cc8ae7634703d'), 'COL1': 1}]"
      ]
     },
     "execution_count": 11,
     "metadata": {},
     "output_type": "execute_result"
    }
   ],
   "source": [
    "list(coll.find({\"COL1\":1}, {\"_id\":1, \"COL1\":1}))"
   ]
  },
  {
   "cell_type": "code",
   "execution_count": null,
   "id": "dc35db52-c8bb-4b7e-8a68-7b00b09e23b8",
   "metadata": {},
   "outputs": [],
   "source": []
  }
 ],
 "metadata": {
  "kernelspec": {
   "display_name": "Python 3 (ipykernel)",
   "language": "python",
   "name": "python3"
  },
  "language_info": {
   "codemirror_mode": {
    "name": "ipython",
    "version": 3
   },
   "file_extension": ".py",
   "mimetype": "text/x-python",
   "name": "python",
   "nbconvert_exporter": "python",
   "pygments_lexer": "ipython3",
   "version": "3.10.11"
  }
 },
 "nbformat": 4,
 "nbformat_minor": 5
}
